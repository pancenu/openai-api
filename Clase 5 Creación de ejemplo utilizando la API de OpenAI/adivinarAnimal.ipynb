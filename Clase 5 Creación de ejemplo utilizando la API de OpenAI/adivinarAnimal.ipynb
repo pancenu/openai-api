{
  "cells": [
    {
      "cell_type": "markdown",
      "source": [
        "\n",
        "machine options:\n",
        "\n",
        "  `'colab'` : running on google colab with access to variable `GOOGLE_API_KEY` in secrets.\n",
        "\n",
        "  `'local'` : running on local machine (environment created) with environmental variable `GOOGLE_API_KEY` set."
      ],
      "metadata": {
        "id": "4MqUCg9YdM1F"
      }
    },
    {
      "cell_type": "code",
      "source": [
        "machine= 'colab'"
      ],
      "metadata": {
        "id": "rNiWfhdUcQak"
      },
      "execution_count": 2,
      "outputs": []
    },
    {
      "cell_type": "markdown",
      "source": [],
      "metadata": {
        "id": "fY4d8SMfdLCj"
      }
    },
    {
      "cell_type": "code",
      "execution_count": 3,
      "metadata": {
        "id": "74z_-ZqlOpzZ"
      },
      "outputs": [],
      "source": [
        "if machine == 'local':\n",
        "  !pip install openai\n",
        ""
      ]
    },
    {
      "cell_type": "code",
      "source": [
        "if machine == 'colab':\n",
        "  from google.colab import userdata\n",
        "  import os\n",
        "  os.environ[\"GOOGLE_API_KEY\"] = userdata.get('GOOGLE_API_KEY')"
      ],
      "metadata": {
        "id": "TIOqKIGWRP2s"
      },
      "execution_count": 4,
      "outputs": []
    },
    {
      "cell_type": "markdown",
      "source": [
        "Original 3rd line:\n",
        "```\n",
        "openai = OpenAI(api_key='Ingresa tu API Key de OpenAI')\n",
        "```"
      ],
      "metadata": {
        "id": "T6-B2ROMjKxA"
      }
    },
    {
      "cell_type": "code",
      "execution_count": 5,
      "metadata": {
        "id": "B2VUBlhcPxOo"
      },
      "outputs": [],
      "source": [
        "from openai import OpenAI\n",
        "\n",
        "openai = OpenAI(\n",
        "    api_key=os.environ[\"GOOGLE_API_KEY\"],\n",
        "    base_url=\"https://generativelanguage.googleapis.com/v1beta/openai/\"\n",
        ")"
      ]
    },
    {
      "cell_type": "code",
      "execution_count": 6,
      "metadata": {
        "id": "gCZESW3jQaMy"
      },
      "outputs": [],
      "source": [
        "import random\n",
        "\n",
        "def get_clue():\n",
        "  words = ['elefante', 'león', 'jirafa', 'hipopótamo', 'mono']\n",
        "  random_word = random.choice(words)\n",
        "  prompt = 'Adivina la palabra que estoy pensando. Es un animal que vive en la selva.'\n",
        "  return prompt, random_word"
      ]
    },
    {
      "cell_type": "code",
      "execution_count": 7,
      "metadata": {
        "id": "IaB5unxuRaz-"
      },
      "outputs": [],
      "source": [
        "def check_answer(user_input, answer):\n",
        "  if user_input == answer:\n",
        "    return True\n",
        "  return False"
      ]
    },
    {
      "cell_type": "markdown",
      "source": [
        "Original 2nd line\n",
        "\n",
        "```\n",
        "model= 'gpt-4',\n",
        "```\n",
        "\n"
      ],
      "metadata": {
        "id": "ffA5gPwLi0wa"
      }
    },
    {
      "cell_type": "code",
      "execution_count": 8,
      "metadata": {
        "id": "P9j0TpygRwyn"
      },
      "outputs": [],
      "source": [
        "def give_property(animal):\n",
        "  response = openai.chat.completions.create(\n",
        "      model= 'gemini-2.0-flash',\n",
        "      messages = [\n",
        "        {\"role\": \"user\", \"content\" :'Dame una caracteristica del tipo animal ' + animal + ', pero jamás digas el nombre del animal'},\n",
        "       ],\n",
        "      max_tokens = 100)\n",
        "  return response.choices[0].message.content"
      ]
    },
    {
      "cell_type": "code",
      "execution_count": 9,
      "metadata": {
        "id": "OY2knbpESZ0C"
      },
      "outputs": [],
      "source": [
        "def play_game():\n",
        "  prompt, answer = get_clue()\n",
        "  print(prompt)\n",
        "  while True:\n",
        "    user_input = input('Ingresa tu respuesta:')\n",
        "    if check_answer(user_input,answer):\n",
        "      print('Correcto! La respuesta era:', answer)\n",
        "      break\n",
        "    else:\n",
        "      print('Respuesta incorrecta. Intentalo de nuevo')\n",
        "      print(give_property(answer))"
      ]
    },
    {
      "cell_type": "code",
      "execution_count": 11,
      "metadata": {
        "colab": {
          "base_uri": "https://localhost:8080/"
        },
        "id": "qmuwT5WqTSwd",
        "outputId": "1e52ed36-159f-42d3-857c-89422cd2ca47"
      },
      "outputs": [
        {
          "output_type": "stream",
          "name": "stdout",
          "text": [
            "Adivina la palabra que estoy pensando. Es un animal que vive en la selva.\n",
            "Ingresa tu respuesta:mono\n",
            "Respuesta incorrecta. Intentalo de nuevo\n",
            "Posee un cuello extremadamente largo, que le permite alcanzar hojas en las copas de los árboles, inaccesibles para la mayoría de los demás herbívoros.\n",
            "\n",
            "Ingresa tu respuesta:elefante\n",
            "Respuesta incorrecta. Intentalo de nuevo\n",
            "Posee un cuello extremadamente largo, adaptado para alcanzar el follaje en las copas de los árboles altos.\n",
            "\n",
            "Ingresa tu respuesta:león\n",
            "Respuesta incorrecta. Intentalo de nuevo\n",
            "Su cuello extremadamente largo es una de sus características físicas más distintivas, permitiéndole alcanzar hojas en las copas de los árboles.\n",
            "\n",
            "Ingresa tu respuesta:jirafa\n",
            "Correcto! La respuesta era: jirafa\n"
          ]
        }
      ],
      "source": [
        "play_game()"
      ]
    }
  ],
  "metadata": {
    "colab": {
      "provenance": []
    },
    "kernelspec": {
      "display_name": "Python 3",
      "name": "python3"
    },
    "language_info": {
      "codemirror_mode": {
        "name": "ipython",
        "version": 3
      },
      "file_extension": ".py",
      "mimetype": "text/x-python",
      "name": "python",
      "nbconvert_exporter": "python",
      "pygments_lexer": "ipython3",
      "version": "3.9.0"
    }
  },
  "nbformat": 4,
  "nbformat_minor": 0
}