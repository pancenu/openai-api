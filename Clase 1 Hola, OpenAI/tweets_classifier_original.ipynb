{
  "cells": [
    {
      "cell_type": "markdown",
      "metadata": {
        "id": "13877tD3TxCN"
      },
      "source": [
        "## Instalar librería de OpenAI"
      ]
    },
    {
      "cell_type": "code",
      "execution_count": null,
      "metadata": {
        "colab": {
          "base_uri": "https://localhost:8080/"
        },
        "id": "Xky3yk53SGXQ",
        "outputId": "6eddab1c-a24e-40b9-d594-12e556ad8bcd"
      },
      "outputs": [],
      "source": [
        "#!pip install --upgrade openai"
      ]
    },
    {
      "cell_type": "markdown",
      "metadata": {
        "id": "-chXGqykT19o"
      },
      "source": [
        "## Importar librerías"
      ]
    },
    {
      "cell_type": "code",
      "execution_count": 1,
      "metadata": {
        "id": "Yda6XTJ2Tiz7"
      },
      "outputs": [],
      "source": [
        "from openai import OpenAI"
      ]
    },
    {
      "cell_type": "markdown",
      "metadata": {
        "id": "rlk32AjFT6KU"
      },
      "source": [
        "## Cargar API Key de OpenAI"
      ]
    },
    {
      "cell_type": "code",
      "execution_count": 2,
      "metadata": {
        "id": "sHehHPGPT_iS"
      },
      "outputs": [],
      "source": [
        "openai = OpenAI(api_key='Ingresa aquí tu API Key de OpenAI')"
      ]
    },
    {
      "cell_type": "markdown",
      "metadata": {
        "id": "fuKoxVYtUEVE"
      },
      "source": [
        "## Clasificador de Tweets con Completion\n",
        "\n",
        "Fuente Tweet: https://twitter.com/platzi/status/1661836230424666130"
      ]
    },
    {
      "cell_type": "code",
      "execution_count": 4,
      "metadata": {
        "id": "rAydwHmcRcfn"
      },
      "outputs": [],
      "source": [
        "response = openai.completions.create(\n",
        "  model=\"gpt-3.5-turbo-instruct\",\n",
        "  prompt=\"Decide si el sentimiento de un Tweet es positivo, neutral, o negativo. \\\n",
        "  \\n\\nTweet: \\\"#LoNuevoEnPlatzi es el Platzibot 🤖. Un asistente creado con Inteligencia Artificial para acompañarte en tu proceso de aprendizaje.\\\n",
        "  \\\"\\nSentiment:\",\n",
        "  temperature=0,\n",
        "  max_tokens=60,\n",
        "  top_p=1.0,\n",
        "  frequency_penalty=0.5,\n",
        "  presence_penalty=0.0\n",
        ")"
      ]
    },
    {
      "cell_type": "code",
      "execution_count": 6,
      "metadata": {},
      "outputs": [],
      "source": [
        "response = openai.completions.create(\n",
        "  model=\"gpt-3.5-turbo-instruct\",\n",
        "  prompt=\"Decide si el sentimiento de un Tweet es positivo, neutral, o negativo. \\\n",
        "  \\n\\nTweet: \\\"Ojalá mi gata supiera lo mucho que la odio.\\\" \\\n",
        "  \\\"\\nSentiment:\",\n",
        "  temperature=0,\n",
        "  max_tokens=60,\n",
        "  top_p=1.0,\n",
        "  frequency_penalty=0.5,\n",
        "  presence_penalty=0.0\n",
        ")"
      ]
    },
    {
      "cell_type": "markdown",
      "metadata": {
        "id": "HZsHLJOyUL4Q"
      },
      "source": [
        "## Imprimir respuesta"
      ]
    },
    {
      "cell_type": "code",
      "execution_count": 7,
      "metadata": {
        "colab": {
          "base_uri": "https://localhost:8080/",
          "height": 36
        },
        "id": "VhB5V2k_SgIR",
        "outputId": "f9540f67-17c2-4300-86b2-c05f3ec88521"
      },
      "outputs": [
        {
          "data": {
            "text/plain": [
              "' Negativo'"
            ]
          },
          "execution_count": 7,
          "metadata": {},
          "output_type": "execute_result"
        }
      ],
      "source": [
        "response.choices[0].text"
      ]
    }
  ],
  "metadata": {
    "colab": {
      "provenance": []
    },
    "kernelspec": {
      "display_name": "Python 3",
      "name": "python3"
    },
    "language_info": {
      "codemirror_mode": {
        "name": "ipython",
        "version": 3
      },
      "file_extension": ".py",
      "mimetype": "text/x-python",
      "name": "python",
      "nbconvert_exporter": "python",
      "pygments_lexer": "ipython3",
      "version": "3.9.0"
    }
  },
  "nbformat": 4,
  "nbformat_minor": 0
}
