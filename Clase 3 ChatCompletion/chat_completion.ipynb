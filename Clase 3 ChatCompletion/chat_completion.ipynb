{
  "cells": [
    {
      "cell_type": "markdown",
      "source": [
        "Adaptado para correr en google colab o localmente, con modelos de openai o de google"
      ],
      "metadata": {
        "id": "PQK31LCxhVLC"
      }
    },
    {
      "cell_type": "code",
      "source": [
        "machine = 'colab'\n",
        "client = 'google'"
      ],
      "metadata": {
        "id": "1125rUFSkeCG"
      },
      "execution_count": 1,
      "outputs": []
    },
    {
      "cell_type": "code",
      "execution_count": 2,
      "metadata": {
        "id": "bjgpgG8UX8Yv"
      },
      "outputs": [],
      "source": [
        "import os\n",
        "\n",
        "match machine:\n",
        "  case 'local':\n",
        "    !pip install openai\n",
        "    # os.environ['OPEN_API_KEY'] or\n",
        "    # os.environ['GOOGLE_API_KEY'] set locally.\n",
        "  case 'colab':\n",
        "    from google.colab import userdata\n",
        "    match client:\n",
        "      case 'openai':\n",
        "        os.environ['OPEN_API_KEY'] = userdata.get('OPEN_API_KEY')\n",
        "      case 'google':\n",
        "        os.environ['GOOGLE_API_KEY'] = userdata.get('GOOGLE_API_KEY')"
      ]
    },
    {
      "cell_type": "code",
      "execution_count": 3,
      "metadata": {
        "id": "RIUa1YQ4X_-o"
      },
      "outputs": [],
      "source": [
        "from openai import OpenAI\n",
        "\n",
        "match client:\n",
        "  case 'openai':\n",
        "    openai = OpenAI(api_key=os.environ['OPEN_API_KEY'])\n",
        "    model_selected='gpt-3.5-turbo'\n",
        "  case 'google':\n",
        "    openai = OpenAI(\n",
        "      api_key=os.environ[\"GOOGLE_API_KEY\"],\n",
        "      base_url=\"https://generativelanguage.googleapis.com/v1beta/openai/\"\n",
        "    )\n",
        "    model_selected='gemini-2.0-flash'\n"
      ]
    },
    {
      "cell_type": "code",
      "execution_count": 4,
      "metadata": {
        "colab": {
          "base_uri": "https://localhost:8080/"
        },
        "id": "WotauwKmYUBn",
        "outputId": "a7eb813c-43b7-4a9d-95c7-381b1f17d936"
      },
      "outputs": [
        {
          "output_type": "stream",
          "name": "stdout",
          "text": [
            "El Mundial de 2022 se jugó en Qatar.\n",
            "\n"
          ]
        }
      ],
      "source": [
        "response = openai.chat.completions.create(\n",
        "    model= model_selected,\n",
        "    messages = [\n",
        "        {\"role\": \"system\", \"content\" :\"Eres un asistente que da informacion sobre deportes\"},\n",
        "        {\"role\": \"user\", \"content\" :\"¿Quién ganó el mundial de fútbol?\"},\n",
        "        {\"role\": \"assistant\", \"content\" : \"El mundial de 2022 lo ganó Argentina\"},\n",
        "        {\"role\": \"user\", \"content\" :\"¿Dónde se jugó?\"}\n",
        "    ]\n",
        ")\n",
        "\n",
        "print(response.choices[0].message.content)"
      ]
    },
    {
      "cell_type": "code",
      "execution_count": 5,
      "metadata": {
        "colab": {
          "base_uri": "https://localhost:8080/"
        },
        "id": "sSwaJ1wmbn5z",
        "outputId": "c02dcab5-72ab-4a45-9491-1150feb763d4"
      },
      "outputs": [
        {
          "output_type": "stream",
          "name": "stdout",
          "text": [
            "El Mundial de 2022 se jugó en Qatar.\n",
            "\n"
          ]
        }
      ],
      "source": [
        "response = openai.chat.completions.create(\n",
        "    model = model_selected,\n",
        "    messages = [\n",
        "        {\"role\": \"system\", \"content\" :\"Eres un asistente que da informacion sobre deportes\"},\n",
        "        {\"role\": \"user\", \"content\" :\"¿Quién ganó el mundial de fútbol?\"},\n",
        "        {\"role\": \"assistant\", \"content\" : \"El mundial de 2022 lo ganó Argentina\"},\n",
        "        {\"role\": \"user\", \"content\" :\"¿Dónde se jugó?\"}\n",
        "    ],\n",
        "    temperature = 0.2\n",
        ")\n",
        "print(response.choices[0].message.content)"
      ]
    },
    {
      "cell_type": "code",
      "execution_count": 6,
      "metadata": {
        "colab": {
          "base_uri": "https://localhost:8080/"
        },
        "id": "9TuU7pdmb9bm",
        "outputId": "bf684634-df10-472b-b98d-42519a58b537"
      },
      "outputs": [
        {
          "output_type": "stream",
          "name": "stdout",
          "text": [
            "El mundial de 2022 se jugó en Qatar.\n",
            "\n"
          ]
        }
      ],
      "source": [
        "response = openai.chat.completions.create(\n",
        "    model = model_selected,\n",
        "    messages = [\n",
        "        {\"role\": \"system\", \"content\" :\"Eres un asistente que da informacion sobre deportes.\"},\n",
        "        {\"role\": \"user\", \"content\" :\"¿Quién ganó el mundial de fútbol?\"},\n",
        "        {\"role\": \"assistant\", \"content\" : \"El mundial de 2022 lo ganó Argentina\"},\n",
        "        {\"role\": \"user\", \"content\" :\"¿Dónde se jugó?\"}\n",
        "    ],\n",
        "    temperature = 1\n",
        ")\n",
        "print(response.choices[0].message.content)"
      ]
    }
  ],
  "metadata": {
    "colab": {
      "provenance": []
    },
    "kernelspec": {
      "display_name": "Python 3",
      "name": "python3"
    },
    "language_info": {
      "codemirror_mode": {
        "name": "ipython",
        "version": 3
      },
      "file_extension": ".py",
      "mimetype": "text/x-python",
      "name": "python",
      "nbconvert_exporter": "python",
      "pygments_lexer": "ipython3",
      "version": "3.9.0"
    }
  },
  "nbformat": 4,
  "nbformat_minor": 0
}