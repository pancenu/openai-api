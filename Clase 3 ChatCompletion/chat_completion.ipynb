{
  "cells": [
    {
      "cell_type": "code",
      "execution_count": null,
      "metadata": {
        "colab": {
          "base_uri": "https://localhost:8080/"
        },
        "id": "bjgpgG8UX8Yv",
        "outputId": "a1876dae-0d54-4df8-e27a-6ebe847d1d6a"
      },
      "outputs": [],
      "source": [
        "pip install openai"
      ]
    },
    {
      "cell_type": "code",
      "execution_count": 2,
      "metadata": {
        "id": "RIUa1YQ4X_-o"
      },
      "outputs": [],
      "source": [
        "from openai import OpenAI\n",
        "\n",
        "openai = OpenAI(api_key='Ingresa aquí tu API Key de OpenAI')"
      ]
    },
    {
      "cell_type": "code",
      "execution_count": 3,
      "metadata": {
        "colab": {
          "base_uri": "https://localhost:8080/"
        },
        "id": "WotauwKmYUBn",
        "outputId": "8260ca9e-665e-48d8-9196-9b21c8f84c81"
      },
      "outputs": [
        {
          "name": "stdout",
          "output_type": "stream",
          "text": [
            "El Mundial de Fútbol de 2022 se jugó en Qatar. Fue la primera vez que este país de Medio Oriente organizó el torneo.\n"
          ]
        }
      ],
      "source": [
        "response = openai.chat.completions.create(\n",
        "    model = 'gpt-3.5-turbo',\n",
        "    messages = [\n",
        "        {\"role\": \"system\", \"content\" :\"Eres un asistente que da informacion sobre deportes\"},\n",
        "        {\"role\": \"user\", \"content\" :\"¿Quién ganó el mundial de fútbol?\"},\n",
        "        {\"role\": \"assistant\", \"content\" : \"El mundial de 2022 lo ganó Argentina\"},\n",
        "        {\"role\": \"user\", \"content\" :\"¿Dónde se jugó?\"}\n",
        "    ]\n",
        ")\n",
        "\n",
        "print(response.choices[0].message.content)"
      ]
    },
    {
      "cell_type": "code",
      "execution_count": 4,
      "metadata": {
        "colab": {
          "base_uri": "https://localhost:8080/"
        },
        "id": "sSwaJ1wmbn5z",
        "outputId": "2df6e4c8-a8a3-4fd2-f89a-64fb1a67c9d7"
      },
      "outputs": [
        {
          "name": "stdout",
          "output_type": "stream",
          "text": [
            "El Mundial de Fútbol de 2022 se jugó en Qatar. Fue la primera vez que este país de Oriente Medio fue sede de la Copa del Mundo.\n"
          ]
        }
      ],
      "source": [
        "response = openai.chat.completions.create(\n",
        "    model = 'gpt-3.5-turbo',\n",
        "    messages = [\n",
        "        {\"role\": \"system\", \"content\" :\"Eres un asistente que da informacion sobre deportes\"},\n",
        "        {\"role\": \"user\", \"content\" :\"¿Quién ganó el mundial de fútbol?\"},\n",
        "        {\"role\": \"assistant\", \"content\" : \"El mundial de 2022 lo ganó Argentina\"},\n",
        "        {\"role\": \"user\", \"content\" :\"¿Dónde se jugó?\"}\n",
        "    ],\n",
        "    temperature = 0.2\n",
        ")\n",
        "print(response.choices[0].message.content)"
      ]
    },
    {
      "cell_type": "code",
      "execution_count": 5,
      "metadata": {
        "colab": {
          "base_uri": "https://localhost:8080/"
        },
        "id": "9TuU7pdmb9bm",
        "outputId": "0117ff79-5378-442f-b0af-7cccc23c3bfc"
      },
      "outputs": [
        {
          "name": "stdout",
          "output_type": "stream",
          "text": [
            "El mundial de fútbol de 2022 se llevó a cabo en Qatar.\n"
          ]
        }
      ],
      "source": [
        "response = openai.chat.completions.create(\n",
        "    model = 'gpt-3.5-turbo',\n",
        "    messages = [\n",
        "        {\"role\": \"system\", \"content\" :\"Eres un asistente que da informacion sobre deportes.\"},\n",
        "        {\"role\": \"user\", \"content\" :\"¿Quién ganó el mundial de fútbol?\"},\n",
        "        {\"role\": \"assistant\", \"content\" : \"El mundial de 2022 lo ganó Argentina\"},\n",
        "        {\"role\": \"user\", \"content\" :\"¿Dónde se jugó?\"}\n",
        "    ],\n",
        "    temperature = 1\n",
        ")\n",
        "print(response.choices[0].message.content)"
      ]
    }
  ],
  "metadata": {
    "colab": {
      "provenance": []
    },
    "kernelspec": {
      "display_name": "Python 3",
      "name": "python3"
    },
    "language_info": {
      "codemirror_mode": {
        "name": "ipython",
        "version": 3
      },
      "file_extension": ".py",
      "mimetype": "text/x-python",
      "name": "python",
      "nbconvert_exporter": "python",
      "pygments_lexer": "ipython3",
      "version": "3.9.0"
    }
  },
  "nbformat": 4,
  "nbformat_minor": 0
}
